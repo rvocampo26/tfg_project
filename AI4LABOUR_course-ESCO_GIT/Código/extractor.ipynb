{
 "cells": [
  {
   "cell_type": "markdown",
   "metadata": {},
   "source": [
    "# #CARGA DE DATOS"
   ]
  },
  {
   "cell_type": "code",
   "execution_count": 1,
   "metadata": {},
   "outputs": [
    {
     "data": {
      "text/html": [
       "<div>\n",
       "<style scoped>\n",
       "    .dataframe tbody tr th:only-of-type {\n",
       "        vertical-align: middle;\n",
       "    }\n",
       "\n",
       "    .dataframe tbody tr th {\n",
       "        vertical-align: top;\n",
       "    }\n",
       "\n",
       "    .dataframe thead th {\n",
       "        text-align: right;\n",
       "    }\n",
       "</style>\n",
       "<table border=\"1\" class=\"dataframe\">\n",
       "  <thead>\n",
       "    <tr style=\"text-align: right;\">\n",
       "      <th></th>\n",
       "      <th>name</th>\n",
       "      <th>description</th>\n",
       "    </tr>\n",
       "  </thead>\n",
       "  <tbody>\n",
       "    <tr>\n",
       "      <th>0</th>\n",
       "      <td>Cyber Threat Intelligence | Coursera</td>\n",
       "      <td>This course gives you the background needed to...</td>\n",
       "    </tr>\n",
       "    <tr>\n",
       "      <th>1</th>\n",
       "      <td>Network Security | Coursera</td>\n",
       "      <td>Welcome to course 4 of 5 of this Specializatio...</td>\n",
       "    </tr>\n",
       "    <tr>\n",
       "      <th>2</th>\n",
       "      <td>Security Principles | Coursera</td>\n",
       "      <td>Welcome to course 1 of 5 of this Specializatio...</td>\n",
       "    </tr>\n",
       "    <tr>\n",
       "      <th>3</th>\n",
       "      <td>Grow Your Business with Goldman Sachs 10,000 W...</td>\n",
       "      <td>This free online course is one of 10 courses a...</td>\n",
       "    </tr>\n",
       "    <tr>\n",
       "      <th>4</th>\n",
       "      <td>Fundamentals of Negotiation, with Goldman Sach...</td>\n",
       "      <td>This free online course is one of 10 courses a...</td>\n",
       "    </tr>\n",
       "    <tr>\n",
       "      <th>...</th>\n",
       "      <td>...</td>\n",
       "      <td>...</td>\n",
       "    </tr>\n",
       "    <tr>\n",
       "      <th>5261</th>\n",
       "      <td>Getting Started on Mainframe with z/OS Command...</td>\n",
       "      <td>Getting Started with the IBM Mainframe with z/...</td>\n",
       "    </tr>\n",
       "    <tr>\n",
       "      <th>5262</th>\n",
       "      <td>In the footsteps of Zikaâ¦ approaching the un...</td>\n",
       "      <td>Welcome !Welcome to this on-demand MOOC âIn ...</td>\n",
       "    </tr>\n",
       "    <tr>\n",
       "      <th>5263</th>\n",
       "      <td>Zn and Ni Based Batteries | Coursera</td>\n",
       "      <td>Zn and Ni based Batteries: This course focuses...</td>\n",
       "    </tr>\n",
       "    <tr>\n",
       "      <th>5264</th>\n",
       "      <td>IBM z/OS Rexx Programming | Coursera</td>\n",
       "      <td>This course is designed to teach you the basic...</td>\n",
       "    </tr>\n",
       "    <tr>\n",
       "      <th>5265</th>\n",
       "      <td>z/OS System Services Structure | Coursera</td>\n",
       "      <td>This course presents the structure and control...</td>\n",
       "    </tr>\n",
       "  </tbody>\n",
       "</table>\n",
       "<p>5266 rows × 2 columns</p>\n",
       "</div>"
      ],
      "text/plain": [
       "                                                   name  \\\n",
       "0                  Cyber Threat Intelligence | Coursera   \n",
       "1                           Network Security | Coursera   \n",
       "2                        Security Principles | Coursera   \n",
       "3     Grow Your Business with Goldman Sachs 10,000 W...   \n",
       "4     Fundamentals of Negotiation, with Goldman Sach...   \n",
       "...                                                 ...   \n",
       "5261  Getting Started on Mainframe with z/OS Command...   \n",
       "5262  In the footsteps of Zikaâ¦ approaching the un...   \n",
       "5263               Zn and Ni Based Batteries | Coursera   \n",
       "5264               IBM z/OS Rexx Programming | Coursera   \n",
       "5265          z/OS System Services Structure | Coursera   \n",
       "\n",
       "                                            description  \n",
       "0     This course gives you the background needed to...  \n",
       "1     Welcome to course 4 of 5 of this Specializatio...  \n",
       "2     Welcome to course 1 of 5 of this Specializatio...  \n",
       "3     This free online course is one of 10 courses a...  \n",
       "4     This free online course is one of 10 courses a...  \n",
       "...                                                 ...  \n",
       "5261  Getting Started with the IBM Mainframe with z/...  \n",
       "5262  Welcome !Welcome to this on-demand MOOC âIn ...  \n",
       "5263  Zn and Ni based Batteries: This course focuses...  \n",
       "5264  This course is designed to teach you the basic...  \n",
       "5265  This course presents the structure and control...  \n",
       "\n",
       "[5266 rows x 2 columns]"
      ]
     },
     "execution_count": 1,
     "metadata": {},
     "output_type": "execute_result"
    }
   ],
   "source": [
    "import pandas as pd\n",
    "\n",
    "df_courses = pd.read_json(\"C:/Users/rvoca/OneDrive/Escritorio/tfg_project/MOOCs/coursera/courses.json\")\n",
    "df_courses\n",
    "descriptions = df_courses[['name','description']]\n",
    "descriptions"
   ]
  },
  {
   "cell_type": "markdown",
   "metadata": {},
   "source": [
    "# #PREPROCESAMIENTO "
   ]
  },
  {
   "cell_type": "code",
   "execution_count": 2,
   "metadata": {},
   "outputs": [],
   "source": [
    "def preprocesar(texto):\n",
    "    return texto.lower()\n"
   ]
  },
  {
   "cell_type": "markdown",
   "metadata": {},
   "source": [
    "# #TOKENIZAR"
   ]
  },
  {
   "cell_type": "code",
   "execution_count": 3,
   "metadata": {},
   "outputs": [],
   "source": [
    "#def tokenizacion(texto):\n",
    "    #Seleccionamos el inglés como idioma\n",
    "#    english_dt = set(stopwords.words('english'))\n",
    "    #Tokenizar por alabras\n",
    "#    words = word_tokenize(texto)\n",
    "\n"
   ]
  },
  {
   "cell_type": "code",
   "execution_count": 22,
   "metadata": {},
   "outputs": [
    {
     "name": "stderr",
     "output_type": "stream",
     "text": [
      "[nltk_data] Downloading package maxent_ne_chunker to\n",
      "[nltk_data]     C:\\Users\\rvoca\\AppData\\Roaming\\nltk_data...\n",
      "[nltk_data]   Package maxent_ne_chunker is already up-to-date!\n",
      "[nltk_data] Downloading package words to\n",
      "[nltk_data]     C:\\Users\\rvoca\\AppData\\Roaming\\nltk_data...\n",
      "[nltk_data]   Unzipping corpora\\words.zip.\n"
     ]
    }
   ],
   "source": [
    "import nltk \n",
    "from nltk.stem import WordNetLemmatizer\n",
    "from nltk.corpus import wordnet\n",
    "from nltk.tag import pos_tag\n",
    "from nltk.tokenize import sent_tokenize, word_tokenize\n",
    "from nltk.corpus import stopwords\n",
    "from nltk.chunk import ne_chunk\n",
    "#nltk.download('averaged_perceptron_tagger')\n",
    "#nltk.download('lemmatize')\n",
    "#nltk.download('wordnet')\n",
    "#nltk.download('maxent_ne_chunker')\n",
    "#nltk.download('words')\n",
    "\n",
    "def etiquetado (word):\n",
    "    if word.startswith('ADJ'):\n",
    "        return wordnet.ADJ\n",
    "    elif word.startswith('V'):\n",
    "        return wordnet.VERB\n",
    "    elif word.startswith('N'):\n",
    "        return wordnet.NOUN\n",
    "    elif word.startswith('ADV'):\n",
    "        return wordnet.ADV\n",
    "    else:\n",
    "        return wordnet.NOUN\n",
    "\n",
    "\n",
    "def lematizacion(texto):\n",
    "    #Tokenizamos el texto\n",
    "    tokens = nltk.word_tokenize(texto)\n",
    "    #Etiquetamos gramaticalmente tokens\n",
    "    palabras_etiquetadas = pos_tag(tokens, tagset=\"universal\", lang=\"eng\")\n",
    "    print(palabras_etiquetadas)\n",
    "    #Detectamos entidades\n",
    "    arbol = ne_chunk(palabras_etiquetadas)\n",
    "    # Visualización de entidades con nombre\n",
    "    for elem in arbol:\n",
    "        if isinstance(elem, nltk.Tree):\n",
    "            entidad = \" \".join([palabra for palabra, etiqueta in elem.hojas()])\n",
    "            etiqueta = elem.etiqueta()\n",
    "            print( \"Entidad: {entidad}, Etiqueta: {etiqueta}\")\n",
    "    #lematizador = WordNetLemmatizer()\n",
    "    #lemas = [lematizador.lemmatize(palabra, etiquetado(etiqueta)) for palabra, etiqueta in palabras_etiquetadas]\n",
    "\n"
   ]
  },
  {
   "cell_type": "code",
   "execution_count": 23,
   "metadata": {},
   "outputs": [
    {
     "name": "stdout",
     "output_type": "stream",
     "text": [
      "[('this', 'DET'), ('course', 'NOUN'), ('gives', 'VERB'), ('you', 'PRON'), ('the', 'DET'), ('background', 'NOUN'), ('needed', 'VERB'), ('to', 'PRT'), ('gain', 'VERB'), ('cybersecurity', 'NOUN'), ('skills', 'NOUN'), ('as', 'ADP'), ('part', 'NOUN'), ('of', 'ADP'), ('the', 'DET'), ('cybersecurity', 'NOUN'), ('security', 'NOUN'), ('analyst', 'NOUN'), ('professional', 'ADJ'), ('certificate', 'NOUN'), ('program', 'NOUN'), ('.', '.'), ('you', 'PRON'), ('will', 'VERB'), ('understand', 'VERB'), ('network', 'NOUN'), ('defensive', 'ADJ'), ('tactics', 'NOUN'), (',', '.'), ('define', 'NOUN'), ('network', 'NOUN'), ('access', 'NOUN'), ('control', 'NOUN'), ('and', 'CONJ'), ('use', 'NOUN'), ('network', 'NOUN'), ('monitoring', 'NOUN'), ('tools', 'NOUN'), ('.', '.'), ('you', 'PRON'), ('will', 'VERB'), ('understand', 'VERB'), ('data', 'NOUN'), ('protection', 'NOUN'), ('risks', 'NOUN'), ('and', 'CONJ'), ('explore', 'VERB'), ('mobile', 'ADJ'), ('endpoint', 'NOUN'), ('protection', 'NOUN'), ('.', '.'), ('finally', 'ADV'), ('you', 'PRON'), ('will', 'VERB'), ('recognize', 'VERB'), ('various', 'ADJ'), ('scanning', 'VERB'), ('technologies', 'NOUN'), (',', '.'), ('application', 'NOUN'), ('security', 'NOUN'), ('vulnerabilities', 'NOUN'), ('and', 'CONJ'), ('threat', 'NOUN'), ('intelligence', 'NOUN'), ('platforms', 'NOUN'), ('.', '.'), ('this', 'DET'), ('course', 'NOUN'), ('also', 'ADV'), ('gives', 'VERB'), ('you', 'PRON'), ('hands', 'VERB'), ('on', 'ADP'), ('access', 'NOUN'), ('to', 'PRT'), ('cybersecurity', 'NOUN'), ('tools', 'NOUN'), ('important', 'ADJ'), ('to', 'PRT'), ('a', 'DET'), ('system', 'NOUN'), ('analyst', 'NOUN'), ('.', '.'), ('this', 'DET'), ('course', 'NOUN'), ('is', 'VERB'), ('intended', 'VERB'), ('for', 'ADP'), ('anyone', 'NOUN'), ('who', 'PRON'), ('wants', 'VERB'), ('to', 'PRT'), ('gain', 'VERB'), ('a', 'DET'), ('basic', 'ADJ'), ('understanding', 'NOUN'), ('of', 'ADP'), ('cybersecurity', 'NOUN'), ('or', 'CONJ'), ('as', 'ADP'), ('the', 'DET'), ('sixth', 'ADJ'), ('course', 'NOUN'), ('in', 'ADP'), ('a', 'DET'), ('series', 'NOUN'), ('of', 'ADP'), ('courses', 'NOUN'), ('to', 'PRT'), ('acquire', 'VERB'), ('the', 'DET'), ('skills', 'NOUN'), ('to', 'PRT'), ('work', 'VERB'), ('in', 'ADP'), ('the', 'DET'), ('cybersecurity', 'NOUN'), ('field', 'NOUN'), ('as', 'ADP'), ('a', 'DET'), ('cybersecurity', 'NOUN'), ('analyst', 'NOUN'), ('.', '.'), ('the', 'DET'), ('completion', 'NOUN'), ('of', 'ADP'), ('this', 'DET'), ('course', 'NOUN'), ('also', 'ADV'), ('makes', 'VERB'), ('you', 'PRON'), ('eligible', 'ADJ'), ('to', 'PRT'), ('earn', 'VERB'), ('the', 'DET'), ('cyber', 'NOUN'), ('threat', 'NOUN'), ('intelligence', 'NOUN'), ('ibm', 'ADJ'), ('digital', 'ADJ'), ('badge', 'NOUN'), ('.', '.'), ('more', 'ADJ'), ('information', 'NOUN'), ('about', 'ADP'), ('the', 'DET'), ('badge', 'NOUN'), ('can', 'VERB'), ('be', 'VERB'), ('found', 'VERB'), ('https', 'NOUN'), (':', '.'), ('//www.youracclaim.com/org/ibm/badge/cyber-threat-intelligence', 'NOUN'), ('.', '.'), ('in', 'ADP'), ('this', 'DET'), ('course', 'NOUN'), (',', '.'), ('you', 'PRON'), ('will', 'VERB'), ('learn', 'VERB'), ('to', 'PRT'), (':', '.'), ('â\\x80¢', 'VERB'), ('describe', 'ADJ'), ('examples', 'NOUN'), ('of', 'ADP'), ('network', 'NOUN'), ('defensive', 'ADJ'), ('tactics', 'NOUN'), ('.', '.'), ('â\\x80¢', 'ADJ'), ('discuss', 'NOUN'), ('data', 'NOUN'), ('loss', 'NOUN'), ('prevention', 'NOUN'), ('and', 'CONJ'), ('endpoint', 'NOUN'), ('protection', 'NOUN'), ('concepts', 'NOUN'), ('and', 'CONJ'), ('tools', 'NOUN'), ('.', '.'), ('â\\x80¢', 'VERB'), ('explore', 'ADP'), ('a', 'DET'), ('data', 'NOUN'), ('loss', 'NOUN'), ('prevention', 'NOUN'), ('tool', 'NOUN'), ('and', 'CONJ'), ('learn', 'VERB'), ('how', 'ADV'), ('to', 'PRT'), ('classify', 'VERB'), ('data', 'NOUN'), ('in', 'ADP'), ('your', 'PRON'), ('database', 'NOUN'), ('environment', 'NOUN'), ('.', '.'), ('â\\x80¢', 'CONJ'), ('describe', 'ADJ'), ('security', 'NOUN'), ('vulnerability', 'NOUN'), ('scanning', 'VERB'), ('technologies', 'NOUN'), ('and', 'CONJ'), ('tools', 'NOUN'), ('.', '.'), ('â\\x80¢', 'ADJ'), ('recognize', 'ADJ'), ('application', 'NOUN'), ('security', 'NOUN'), ('threats', 'NOUN'), ('and', 'CONJ'), ('common', 'ADJ'), ('vulnerabilities', 'NOUN'), ('.', '.'), ('â\\x80¢', 'CONJ'), ('identify', 'VERB'), ('the', 'DET'), ('key', 'ADJ'), ('concepts', 'NOUN'), ('around', 'ADP'), ('threat', 'NOUN'), ('intelligence', 'NOUN'), ('.', '.'), ('â\\x80¢', 'VERB'), ('explore', 'ADP'), ('a', 'DET'), ('siem', 'ADJ'), ('product', 'NOUN'), ('and', 'CONJ'), ('review', 'NOUN'), ('suspicious', 'ADJ'), ('alerts', 'NOUN'), ('and', 'CONJ'), ('how', 'ADV'), ('to', 'PRT'), ('take', 'VERB'), ('action', 'NOUN'), ('.', '.')]\n"
     ]
    }
   ],
   "source": [
    "elem_prueba = descriptions.iloc[0].values[1]\n",
    "\n",
    "text_prep = preprocesar(elem_prueba)\n",
    "\n",
    "lematizacion(text_prep)\n"
   ]
  }
 ],
 "metadata": {
  "kernelspec": {
   "display_name": "Python 3",
   "language": "python",
   "name": "python3"
  },
  "language_info": {
   "codemirror_mode": {
    "name": "ipython",
    "version": 3
   },
   "file_extension": ".py",
   "mimetype": "text/x-python",
   "name": "python",
   "nbconvert_exporter": "python",
   "pygments_lexer": "ipython3",
   "version": "3.10.7"
  }
 },
 "nbformat": 4,
 "nbformat_minor": 2
}
